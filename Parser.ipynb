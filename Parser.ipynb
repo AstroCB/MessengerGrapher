{
 "cells": [
  {
   "cell_type": "code",
   "execution_count": null,
   "metadata": {
    "collapsed": false
   },
   "outputs": [],
   "source": [
    "import pickle as pkl\n",
    "from collections import namedtuple\n",
    "from datetime import datetime, timedelta\n",
    "from functools import lru_cache \n",
    "import json\n",
    "from urllib.request import urlopen\n",
    "\n",
    "from bs4 import BeautifulSoup"
   ]
  },
  {
   "cell_type": "code",
   "execution_count": null,
   "metadata": {
    "collapsed": true
   },
   "outputs": [],
   "source": [
    "soup = BeautifulSoup(open(\"messages.htm\").read(), 'html.parser')"
   ]
  },
  {
   "cell_type": "code",
   "execution_count": null,
   "metadata": {
    "collapsed": false
   },
   "outputs": [],
   "source": [
    "me = \"\" # YOUR NAME HERE\n",
    "API_KEY = \"\" # YOUR sex-API KEY HERE \n",
    "\n",
    "Message = namedtuple(\"Message\", ['person', 'sent_by_me', 'timestamp', 'sex']) \n",
    "                         # types: str,      bool,         datetime,     str"
   ]
  },
  {
   "cell_type": "code",
   "execution_count": null,
   "metadata": {
    "collapsed": true
   },
   "outputs": [],
   "source": [
    "@lru_cache(maxsize=None)\n",
    "def get_sex(name):\n",
    "    \n",
    "    if len(name.split(\" \")) != 1:\n",
    "        name = name.split(\" \")[0]\n",
    "        name = str(name.encode('ascii', 'ignore'))\n",
    "        \n",
    "    myKey = API_KEY\n",
    "    url = \"https://gender-api.com/get?key=\" + myKey + \"&name=\" + name\n",
    "\n",
    "    response = urlopen(url)\n",
    "    decoded = response.read().decode('utf-8')\n",
    "    data = json.loads(decoded)\n",
    "\n",
    "    return data[\"sex\"]"
   ]
  },
  {
   "cell_type": "code",
   "execution_count": null,
   "metadata": {
    "collapsed": true
   },
   "outputs": [],
   "source": [
    "divs = soup.findAll('div', class_=\"thread\")"
   ]
  },
  {
   "cell_type": "code",
   "execution_count": null,
   "metadata": {
    "collapsed": false
   },
   "outputs": [],
   "source": [
    "threads = [] \n",
    "messages = []\n",
    "\n",
    "for thread in divs:\n",
    "    #print(thread.contents)\n",
    "    \n",
    "    people = list(map(str.strip, thread.contents[0].split(',')))\n",
    "    \n",
    "    if 2 != len(people): # skip group chats for now\n",
    "        continue\n",
    "    \n",
    "    person1, person2 = people\n",
    "    person = person1 if person2 == me else person2 # who im talking to \n",
    "            \n",
    "    \n",
    "    for item in thread.contents[1:]:\n",
    "\n",
    "        if item.name == \"div\" and item[\"class\"][0] == \"message\":\n",
    "            \n",
    "            datestring = item.contents[0].contents[1].contents[0]\n",
    "            timestamp = datetime.strptime(datestring, '%A, %B %d, %Y at %I:%M%p %Z')\n",
    "            \n",
    "            person_sending = item.contents[0].contents[0].contents[0]\n",
    "            sent_by_me = True if person_sending == me else False\n",
    "            \n",
    "            sex = get_sex(person)\n",
    "            \n",
    "            messages.append(Message(person, sent_by_me, timestamp, sex))\n",
    "            "
   ]
  },
  {
   "cell_type": "code",
   "execution_count": null,
   "metadata": {
    "collapsed": false
   },
   "outputs": [],
   "source": [
    "pkl.dump(messages, open(\"messages.pkl\", \"wb\"))"
   ]
  },
  {
   "cell_type": "code",
   "execution_count": null,
   "metadata": {
    "collapsed": false
   },
   "outputs": [],
   "source": []
  },
  {
   "cell_type": "code",
   "execution_count": null,
   "metadata": {
    "collapsed": false
   },
   "outputs": [],
   "source": []
  },
  {
   "cell_type": "code",
   "execution_count": null,
   "metadata": {
    "collapsed": false
   },
   "outputs": [],
   "source": []
  },
  {
   "cell_type": "code",
   "execution_count": null,
   "metadata": {
    "collapsed": false
   },
   "outputs": [],
   "source": []
  },
  {
   "cell_type": "code",
   "execution_count": null,
   "metadata": {
    "collapsed": true
   },
   "outputs": [],
   "source": []
  }
 ],
 "metadata": {
  "anaconda-cloud": {},
  "kernelspec": {
   "display_name": "Python [conda env:py35]",
   "language": "python",
   "name": "conda-env-py35-py"
  },
  "language_info": {
   "codemirror_mode": {
    "name": "ipython",
    "version": 3
   },
   "file_extension": ".py",
   "mimetype": "text/x-python",
   "name": "python",
   "nbconvert_exporter": "python",
   "pygments_lexer": "ipython3",
   "version": "3.5.2"
  }
 },
 "nbformat": 4,
 "nbformat_minor": 2
}
