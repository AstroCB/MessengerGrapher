{
 "cells": [
  {
   "cell_type": "code",
   "execution_count": null,
   "metadata": {
    "collapsed": false
   },
   "outputs": [],
   "source": [
    "%matplotlib inline\n",
    "\n",
    "import pickle as pkl\n",
    "from collections import namedtuple, OrderedDict\n",
    "from datetime import datetime\n",
    "from urllib.request import urlopen\n",
    "import json\n",
    "from functools import lru_cache\n",
    "\n",
    "import pandas as pd\n",
    "import numpy as np\n",
    "from matplotlib import pyplot as plt"
   ]
  },
  {
   "cell_type": "code",
   "execution_count": null,
   "metadata": {
    "collapsed": false
   },
   "outputs": [],
   "source": [
    "Message = namedtuple(\"Message\", ['person', 'sent_by_me', 'timestamp', 'sex']) \n",
    "\n",
    "messages = pkl.load(open(\"messages.pkl\", 'rb'))\n",
    "print(\"Total Messages: \", len(messages), \"\\n\")"
   ]
  },
  {
   "cell_type": "code",
   "execution_count": null,
   "metadata": {
    "collapsed": false
   },
   "outputs": [],
   "source": [
    "msgs_by_day = {} # msgs[name] = [] * n_days, populated with message counts\n",
    "\n",
    "start_date = datetime.strptime('9/1/15', \"%m/%d/%y\")\n",
    "end_date = datetime.strptime('8/30/16', \"%m/%d/%y\")\n",
    "delta = (end_date - start_date).days\n",
    "\n",
    "for msg in messages:\n",
    "    \n",
    "    if msg.person in msgs_by_day.keys():\n",
    "        if start_date < msg.timestamp < end_date:\n",
    "                idx = (msg.timestamp - start_date).days\n",
    "                msgs_by_day[msg.person][idx] += 1\n",
    "    else:\n",
    "        msgs_by_day[msg.person] = np.zeros(delta)\n"
   ]
  },
  {
   "cell_type": "code",
   "execution_count": null,
   "metadata": {
    "collapsed": false
   },
   "outputs": [],
   "source": [
    "msgs_by_day = OrderedDict( sorted(msgs_by_day.items(), key=lambda i: -sum(i[1])) )\n",
    "\n",
    "data = pd.DataFrame(msgs_by_day, index=pd.date_range(start_date, periods=delta))"
   ]
  },
  {
   "cell_type": "code",
   "execution_count": null,
   "metadata": {
    "collapsed": false
   },
   "outputs": [],
   "source": []
  },
  {
   "cell_type": "code",
   "execution_count": null,
   "metadata": {
    "collapsed": false
   },
   "outputs": [],
   "source": [
    "def everyonePlot(data, rolling_window=1):\n",
    "    sum_data = data.iloc[:,:].sum(axis=1)\n",
    "    return pd.rolling_mean(sum_data, rolling_window)\n",
    "\n",
    "toPlot = everyonePlot(data, rolling_window=1)\n",
    "\n",
    "ax = toPlot.plot(title=\"Messaging Data\", figsize=(10, 5))\n",
    "ax.set_ylabel(\"Num Messages\")"
   ]
  },
  {
   "cell_type": "code",
   "execution_count": null,
   "metadata": {
    "collapsed": false
   },
   "outputs": [],
   "source": [
    "def cumMsgPlot(data, start, end):\n",
    "    data = data.apply(np.cumsum)\n",
    "    data = data.iloc[:, start:end]\n",
    "    return data\n",
    "\n",
    "toPlot = cumMsgPlot(data, start=0, end=6)\n",
    "\n",
    "ax = toPlot.plot(title=\"Cumulative Messaging Data (Top 6 Most Talked To)\", legend=True, figsize=(7,7))\n",
    "ax.set_ylabel(\"Num Messages (Cumulative)\")\n",
    "plt.legend(loc='center left', bbox_to_anchor=(1.0, 0.5))"
   ]
  },
  {
   "cell_type": "code",
   "execution_count": null,
   "metadata": {
    "collapsed": false
   },
   "outputs": [],
   "source": [
    "toPlot = cumMsgPlot(data, start=1, end=10)\n",
    "\n",
    "ax = toPlot.plot(title=\"Cumulative Messaging Data\", legend=True, figsize=(7,10))\n",
    "ax.set_ylabel(\"Num Messages (Cumulative)\")\n",
    "plt.legend(loc='center left', bbox_to_anchor=(1.0, 0.5))"
   ]
  },
  {
   "cell_type": "code",
   "execution_count": null,
   "metadata": {
    "collapsed": false
   },
   "outputs": [],
   "source": [
    "def numTalkedToPlot(data, min_messages=1, rolling_window=1):\n",
    "    talkedTo = data[ min_messages < data ]\n",
    "    talkedTo = ~pd.isnull(talkedTo)\n",
    "    toPlot = talkedTo.iloc[:,:].sum(axis=1)\n",
    "    return pd.rolling_mean(toPlot, rolling_window)\n",
    "\n",
    "toPlot = numTalkedToPlot(data)\n",
    "\n",
    "ax = toPlot.plot(title=\"Number of People Talked to\", figsize=(10,3))\n",
    "ax.set_ylabel(\"Number of People\")"
   ]
  },
  {
   "cell_type": "markdown",
   "metadata": {},
   "source": [
    "Lets smooth that over with a rolling mean"
   ]
  },
  {
   "cell_type": "code",
   "execution_count": null,
   "metadata": {
    "collapsed": false
   },
   "outputs": [],
   "source": [
    "msgs_sex_by_day = {} # msgs[sex] = array of days \n",
    "\n",
    "for msg in messages:\n",
    "    \n",
    "    if msg.sex in msgs_sex_by_day.keys():\n",
    "        if start_date < msg.timestamp < end_date:\n",
    "                idx = (msg.timestamp - start_date).days\n",
    "                msgs_sex_by_day[msg.sex][idx] += 1\n",
    "    else:\n",
    "        msgs_sex_by_day[msg.sex] = np.zeros(delta)\n",
    "\n",
    "msgs_sex_by_day = OrderedDict( sorted(msgs_sex_by_day.items(), key=lambda i: -sum(i[1])) )\n",
    "\n",
    "sex_data = pd.DataFrame(msgs_sex_by_day, index=pd.date_range(start_date, periods=delta))"
   ]
  },
  {
   "cell_type": "code",
   "execution_count": null,
   "metadata": {
    "collapsed": false
   },
   "outputs": [],
   "source": [
    "toPlot = cumMsgPlot(sex_data, start=0, end=10)\n",
    "\n",
    "if toPlot.columns[0] == \"female\":\n",
    "    color = ['pink', 'lightblue', 'black']\n",
    "else:\n",
    "    color = ['lightblue', 'pink', 'black']\n",
    "    \n",
    "ax = toPlot.plot(title=\"Cumulative Messaging Data by Sex\", legend=True, \n",
    "                 color=color, figsize=(7,5))\n",
    "\n",
    "ax.set_ylabel(\"Num Messages (Cumulative)\")\n",
    "plt.legend(loc='center left', bbox_to_anchor=(1.0, 0.5))"
   ]
  },
  {
   "cell_type": "code",
   "execution_count": null,
   "metadata": {
    "collapsed": false
   },
   "outputs": [],
   "source": [
    "sex_data.plot(title=\"Messaging Data by Sex\", legend=True, \n",
    "                 color=color, figsize=(10,5))"
   ]
  },
  {
   "cell_type": "code",
   "execution_count": null,
   "metadata": {
    "collapsed": false
   },
   "outputs": [],
   "source": [
    "ax = pd.rolling_mean(sex_data, 6).plot(title=\"Messaging Data by Sex\", legend=True, \n",
    "                 color=color, figsize=(10,5))\n",
    "\n",
    "ax.set_ylabel(\"Number of Messages\")\n",
    "ax.set_xlabel(\"Date\")"
   ]
  },
  {
   "cell_type": "code",
   "execution_count": null,
   "metadata": {
    "collapsed": false
   },
   "outputs": [],
   "source": [
    "messages_in_range = filter(lambda x: start_date < x.timestamp < end_date, messages)\n",
    "\n",
    "df = pd.DataFrame(list(messages_in_range), columns=Message._fields)\n",
    "df = df[[\"person\", \"sent_by_me\"]]\n",
    "df.columns = [\"person\", \"sent\"]\n",
    "\n",
    "df['received'] = pd.Series(~df[\"sent\"], index=df.index)\n",
    "df['total'] = df['sent'] | df['received']"
   ]
  },
  {
   "cell_type": "code",
   "execution_count": null,
   "metadata": {
    "collapsed": false
   },
   "outputs": [],
   "source": [
    "grouped = df.groupby('person')\n",
    "sent_received = grouped.sum().sort_values('total', ascending=False)\n",
    "toPlot = sent_received[[\"sent\", \"received\"]].ix[1:15, :]\n",
    "\n",
    "ax = toPlot.plot.bar(title=\"Total Messages Sent/Received\", stacked=True, color=('b', 'r'), figsize=(10, 5))\n",
    "ax.set_ylabel(\"Number of Messages\")\n",
    "ax.set_xlabel(\"Person\")"
   ]
  },
  {
   "cell_type": "code",
   "execution_count": null,
   "metadata": {
    "collapsed": false
   },
   "outputs": [],
   "source": []
  },
  {
   "cell_type": "code",
   "execution_count": null,
   "metadata": {
    "collapsed": false
   },
   "outputs": [],
   "source": []
  },
  {
   "cell_type": "code",
   "execution_count": null,
   "metadata": {
    "collapsed": true
   },
   "outputs": [],
   "source": []
  }
 ],
 "metadata": {
  "anaconda-cloud": {},
  "kernelspec": {
   "display_name": "Python [default]",
   "language": "python",
   "name": "python3"
  },
  "language_info": {
   "codemirror_mode": {
    "name": "ipython",
    "version": 3
   },
   "file_extension": ".py",
   "mimetype": "text/x-python",
   "name": "python",
   "nbconvert_exporter": "python",
   "pygments_lexer": "ipython3",
   "version": "3.5.2"
  }
 },
 "nbformat": 4,
 "nbformat_minor": 2
}
